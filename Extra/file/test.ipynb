{
 "cells": [
  {
   "cell_type": "code",
   "execution_count": 4,
   "metadata": {},
   "outputs": [],
   "source": [
    "from dotenv import load_dotenv, find_dotenv\n",
    "_=load_dotenv(find_dotenv())\n",
    "import os\n",
    "import openai\n",
    "openai.api_key=os.getenv('OPENAI_API_KEY')"
   ]
  },
  {
   "cell_type": "code",
   "execution_count": 37,
   "metadata": {},
   "outputs": [],
   "source": [
    "def get_completion(prompt, systemt_message='',model=\"gpt-3.5-turbo-16k\"):\n",
    "    messages = [{\"role\": 'system', \"content\": systemt_message},{ \"role\": 'user', \"content\": prompt}]\n",
    "    response = openai.ChatCompletion.create(\n",
    "        model=model,\n",
    "        messages=messages\n",
    "    )\n",
    "    return response.choices[0].message['content']"
   ]
  },
  {
   "cell_type": "code",
   "execution_count": 39,
   "metadata": {},
   "outputs": [],
   "source": [
    "str1='''\n",
    "Assistant: {\n",
    "  \"thought\": \"Wikipedia likely has this information. I'm looking it up...\",\n",
    "  \"action\": {\"command\": \"wikipedia\", \"article\": \"Philadelphia\"}\n",
    "}\n",
    "Assistant: {\n",
    "  \"observation\": \"Philadelphia, often called Philly, is the largest city in the Commonwealth of Pennsylvania and the second-largest city in both the Northeast megalopolis and Mid-Atlantic regions after New York City. It is one of the most historically significant cities in the United States and served as the nation's capital city until 1800. Philadelphia is the nation's sixth-largest city with a population of 1,603,797 as of the 2020 census. Since 1854, the city has been coextensive with Philadelphia County, the most populous county in Pennsylvania and the urban core of the Delaware Valley, the nation's seventh-largest and one of the world's largest metropolitan regions with 6.245 million residents in 2020. Philadelphia is known for its extensive contributions to American history and for its role in the life sciences, business and industry, art, literature, and music.\"\n",
    "}\n",
    "\n",
    "Assistant: {\n",
    "  \"answer\": \"The population of Philadelphia, as of the 2020 census, is 1,603,797 people.\"\n",
    "}\n",
    "'''\n",
    "str2='''\n",
    "Assistant: {\n",
    "  \"thought\": \"Let me look up who your manager is. First, I need to look up your profile.\",\n",
    "  \"action\": {\"command\": \"get_employee\", \"id\": 92352}\n",
    "}\n",
    "\n",
    "Assistant: {\n",
    "  \"observation\": {\n",
    "    \"id\": 78334,\n",
    "    \"name\": \"Ms. Manager\",\n",
    "    \"location_id\": 8832\n",
    "  }\n",
    "}\n",
    "\n",
    "Assistant: {\n",
    "  \"thought\": \"Your manager is Ms. Manager. I'm looking up their location.\",\n",
    "  \"action\": {\"command\": \"get_location\", \"id\": 8832}\n",
    "}\n",
    "\n",
    "Assistant: {\n",
    "  \"observation\": {\n",
    "    \"id\": 8832,\n",
    "    \"name\": \"Philadelphia\"\n",
    "  }\n",
    "}\n",
    "\n",
    "Assistant: {\n",
    "  \"answer\": \"Your manager lives in Philadelphia.\"\n",
    "}\n",
    "'''\n",
    "system_message_content = f\"\"\"\n",
    "You are a helpful assistant. You run in a loop, seeking additional information to answer a user's question until you are able to answer the question.\n",
    "\n",
    "Today is June 1, 2025. My name is Fabian Seacaster. My employee ID is 82442.\n",
    "\n",
    "The commands to seek information are:\n",
    "\n",
    "| Command | Arguments | Description |\n",
    "| --- | --- | --- |\n",
    "| find_student | name | 根据名称查找学生 |\n",
    "| get_student | id | 根据id查找学生 |\n",
    "| get_scores | id | 根据 id 查找学生各科成绩 |\n",
    "\n",
    "Your response will be in JSON and will include a \"Thought\" + \"Action\" to retrieve data that you need in order to answer the question, or it will include the \"Answer\". When data has been retrieved, it will be included as an \"Observation\".\n",
    "\n",
    "You will continue generating thoughts and actions until you get to an answer, or conclude that you can't.\n",
    "\n",
    "Example 1:\n",
    "```\n",
    "User: What is the population of Philadelphia?\n",
    "{str1}\n",
    "```\n",
    "\n",
    "Example 2:\n",
    "```\n",
    "User: What is my manager's city?\n",
    "{str2}\n",
    "```\n",
    "\"\"\""
   ]
  },
  {
   "cell_type": "code",
   "execution_count": 53,
   "metadata": {},
   "outputs": [
    {
     "data": {
      "text/plain": [
       "'{\\n  \"thought\": \"我将通过查找学生的名称来获取成绩信息。\",\\n  \"action\": {\"command\": \"get_scores\", \"id\": 87123}\\n}'"
      ]
     },
     "execution_count": 53,
     "metadata": {},
     "output_type": "execute_result"
    }
   ],
   "source": [
    "messages = [{\"role\": 'system', \"content\": system_message_content},{ \"role\": 'user', \"content\": '查找名为王城的成绩'}]\n",
    "\n",
    "def get_completion(messages,model=\"gpt-3.5-turbo-16k\"):\n",
    "    response = openai.ChatCompletion.create(\n",
    "        model=model,\n",
    "        messages=messages\n",
    "    )\n",
    "    return response.choices[0].message['content']\n",
    "get_completion(messages)\n",
    "obj= {\n",
    "    \"observation\": {\n",
    "        \"id\": 87123,\n",
    "        \"name\": \"王城\"\n",
    "    }\n",
    "}\n",
    "new_message = {\n",
    "    \"role\": \"assistant\",\n",
    "    \"content\": f\"{obj}\"\n",
    "}\n",
    "messages.append(new_message)\n",
    "get_completion(messages)"
   ]
  }
 ],
 "metadata": {
  "kernelspec": {
   "display_name": "Python 3 (ipykernel)",
   "language": "python",
   "name": "python3"
  },
  "language_info": {
   "codemirror_mode": {
    "name": "ipython",
    "version": 3
   },
   "file_extension": ".py",
   "mimetype": "text/x-python",
   "name": "python",
   "nbconvert_exporter": "python",
   "pygments_lexer": "ipython3",
   "version": "3.11.4"
  }
 },
 "nbformat": 4,
 "nbformat_minor": 2
}
